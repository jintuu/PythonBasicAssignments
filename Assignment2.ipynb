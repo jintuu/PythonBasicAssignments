{
 "cells": [
  {
   "cell_type": "markdown",
   "metadata": {},
   "source": [
    "#### 1.What are the two values of the Boolean data type? How do you write them?"
   ]
  },
  {
   "cell_type": "markdown",
   "metadata": {},
   "source": [
    "The 2 values of the Boolean data type are true and false. We write them as True and False respectively."
   ]
  },
  {
   "cell_type": "markdown",
   "metadata": {},
   "source": [
    "#### 2. What are the three different types of Boolean operators?"
   ]
  },
  {
   "cell_type": "markdown",
   "metadata": {},
   "source": [
    "The three different Boolean operators are 'and', 'or' and 'not' "
   ]
  },
  {
   "cell_type": "markdown",
   "metadata": {},
   "source": [
    "#### 3. Make a list of each Boolean operator's truth tables (i.e. every possible combination of Boolean values for the operator and what it evaluate )."
   ]
  },
  {
   "cell_type": "markdown",
   "metadata": {},
   "source": [
    "True or True => True\n",
    "\n",
    "True or False => True\n",
    "\n",
    "False or False => False\n",
    "\n",
    "False or True => True\n",
    "\n",
    "True and True => True\n",
    "\n",
    "True and False => False\n",
    "\n",
    "False and False => False\n",
    "\n",
    "False and True => False\n",
    "\n",
    "not True => False\n",
    "\n",
    "not False => True\n"
   ]
  },
  {
   "cell_type": "markdown",
   "metadata": {},
   "source": [
    "#### 4. What are the values of the following expressions?\n",
    "#### (5 > 4) and (3 == 5)\n",
    "#### not (5 > 4)\n",
    "#### (5 > 4) or (3 == 5)\n",
    "#### not ((5 > 4) or (3 == 5))\n",
    "#### (True and True) and (True == False)\n",
    "#### (not False) or (not True) "
   ]
  },
  {
   "cell_type": "markdown",
   "metadata": {},
   "source": [
    "False\n",
    "\n",
    "False\n",
    "\n",
    "True\n",
    "\n",
    "False\n",
    "\n",
    "False\n",
    "\n",
    "True"
   ]
  },
  {
   "cell_type": "markdown",
   "metadata": {},
   "source": [
    "#### 5. What are the six comparison operators?"
   ]
  },
  {
   "cell_type": "markdown",
   "metadata": {},
   "source": [
    "<,>,==,!=, <=, >="
   ]
  },
  {
   "cell_type": "markdown",
   "metadata": {},
   "source": [
    "#### 6. How do you tell the difference between the equal to and assignment operators?Describe a condition and when you would use one."
   ]
  },
  {
   "cell_type": "markdown",
   "metadata": {},
   "source": [
    "The difference between the equal to and assignment operator is that the equal to operator is indicated as \"==\", where as the assignment operator is indicated as \"=\". For example, if we are assigning the value of 10 to x, we write it as x = 10, but to check if the value of x is 10 or not, we write it as x==10"
   ]
  },
  {
   "cell_type": "markdown",
   "metadata": {},
   "source": [
    "#### 7. Identify the three blocks in this code:\n",
    "##### spam = 0\n",
    "\n",
    "##### if spam == 10:\n",
    "\n",
    "##### print('eggs')\n",
    "\n",
    "##### if spam > 5:\n",
    "\n",
    "##### print('bacon')\n",
    "\n",
    "##### else:\n",
    "\n",
    "##### print'(ham')\n",
    "\n",
    "##### print('spam')\n",
    "\n",
    "##### print('spam')\n"
   ]
  },
  {
   "cell_type": "markdown",
   "metadata": {},
   "source": [
    "The three blocks of code are:\n",
    "\n",
    "1)\n",
    "\n",
    "if spam == 10:\n",
    "\n",
    "    print('eggs')\n",
    "    \n",
    "2) if spam >5:\n",
    "\n",
    "    print('bacon')\n",
    "    \n",
    "3) else:\n",
    "\n",
    "    print'(ham')\n",
    "    \n",
    "    print('spam')\n",
    "    \n",
    "    print('spam')\n",
    "\n"
   ]
  },
  {
   "cell_type": "markdown",
   "metadata": {},
   "source": [
    "#### 8. Write code that prints Hello if 1 is stored in spam, prints Howdy if 2 is stored in spam, and prints Greetings! if anything else is stored in spam."
   ]
  },
  {
   "cell_type": "markdown",
   "metadata": {},
   "source": [
    "spam = int(input())\n",
    "\n",
    "if spam == 1:\n",
    "    \n",
    "    print(\"Hello!\")\n",
    "\n",
    "elif spam == 2:\n",
    "\n",
    "    print(\"Howdy\")\n",
    "\n",
    "else:\n",
    "\n",
    "    print(\"Greetings!\")"
   ]
  },
  {
   "cell_type": "markdown",
   "metadata": {},
   "source": [
    "#### 9.If your programme is stuck in an endless loop, what keys you’ll press?"
   ]
  },
  {
   "cell_type": "markdown",
   "metadata": {},
   "source": [
    "If the programme is stuck in an endless loop, to interrupt it, we press <b> Ctrl + C </b>"
   ]
  },
  {
   "cell_type": "markdown",
   "metadata": {},
   "source": [
    "<b> 10. How can you tell the difference between break and continue? </b>"
   ]
  },
  {
   "cell_type": "markdown",
   "metadata": {},
   "source": [
    "Break statement is used to break out of the iterative statements and come out of the loop, irrespective of the condition, whereas Continue statement is used to skip the following statements and jump to the next iteration. "
   ]
  },
  {
   "cell_type": "markdown",
   "metadata": {},
   "source": [
    " <b> 11. In a for loop, what is the difference between range(10), range(0, 10), and range(0, 10, 1)? </b>"
   ]
  },
  {
   "cell_type": "markdown",
   "metadata": {},
   "source": [
    "All the three give the same output, which is \n",
    "0\n",
    "1\n",
    "2\n",
    "3\n",
    "4\n",
    "5\n",
    "6\n",
    "7\n",
    "8\n",
    "9"
   ]
  },
  {
   "cell_type": "markdown",
   "metadata": {},
   "source": [
    "<b> 12. Write a short program that prints the numbers 1 to 10 using a for loop. Then write an equivalent program that prints the numbers 1 to 10 using a while loop. </b>"
   ]
  },
  {
   "cell_type": "markdown",
   "metadata": {},
   "source": [
    "for i in range(1,11):\n",
    "\n",
    "    print(i)\n",
    "    \n",
    "i = 1\n",
    "\n",
    "while i<11:\n",
    "\n",
    "    print(i)\n",
    "    \n",
    "    i+=1"
   ]
  },
  {
   "cell_type": "code",
   "execution_count": null,
   "metadata": {},
   "outputs": [],
   "source": []
  }
 ],
 "metadata": {
  "kernelspec": {
   "display_name": "Python 3",
   "language": "python",
   "name": "python3"
  },
  "language_info": {
   "codemirror_mode": {
    "name": "ipython",
    "version": 3
   },
   "file_extension": ".py",
   "mimetype": "text/x-python",
   "name": "python",
   "nbconvert_exporter": "python",
   "pygments_lexer": "ipython3",
   "version": "3.8.3"
  }
 },
 "nbformat": 4,
 "nbformat_minor": 4
}
